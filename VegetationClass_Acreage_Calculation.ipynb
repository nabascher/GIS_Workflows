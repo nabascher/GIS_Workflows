{
 "cells": [
  {
   "cell_type": "code",
   "execution_count": 1,
   "metadata": {},
   "outputs": [],
   "source": [
    "import arcpy\n",
    "import pandas as pd\n",
    "import arcgis\n",
    "import numpy as np"
   ]
  },
  {
   "cell_type": "code",
   "execution_count": 3,
   "metadata": {},
   "outputs": [],
   "source": [
    "Output_GDB = r\"N:\\projects\\2022\\225180C215139 NTUA Tsaile Wheatfields Chapter Fiber Optic Line\\Biology\\Graphics-GIS\\GIS\\Map_Data.gdb\""
   ]
  },
  {
   "cell_type": "code",
   "execution_count": 4,
   "metadata": {},
   "outputs": [],
   "source": [
    "output_folder = r\"N:\\projects\\2022\\225180C215139 NTUA Tsaile Wheatfields Chapter Fiber Optic Line\\Biology\\Graphics-GIS\\GIS\\Analysis\""
   ]
  },
  {
   "cell_type": "code",
   "execution_count": 5,
   "metadata": {},
   "outputs": [],
   "source": [
    "arcpy.env.workspace = \"CURRENT\""
   ]
  },
  {
   "cell_type": "code",
   "execution_count": 6,
   "metadata": {},
   "outputs": [],
   "source": [
    "arcpy.env.overwriteOutput = True"
   ]
  },
  {
   "cell_type": "code",
   "execution_count": 7,
   "metadata": {},
   "outputs": [],
   "source": [
    "run_data_setup = True"
   ]
  },
  {
   "cell_type": "code",
   "execution_count": 8,
   "metadata": {},
   "outputs": [],
   "source": [
    "def data_setup():\n",
    "    ''' Clips raster to project area.\n",
    "        Converts raster to polygon\n",
    "        Clips polygons to project area\n",
    "    '''\n",
    "    arcpy.management.Clip('az_landcover', 'Project_Area', rf\"{Output_GDB}\\Landcover_Clipped\")\n",
    "    arcpy.conversion.RasterToPolygon('Landcover_Clipped', rf\"{Output_GDB}\\Landcover_Polygons\", raster_field=\"DESCRIPTION\")\n",
    "    arcpy.analysis.Clip('Landcover_Polygons', 'Project_Area', rf\"{Output_GDB}\\Polygons_Clipped\")"
   ]
  },
  {
   "cell_type": "code",
   "execution_count": 9,
   "metadata": {},
   "outputs": [],
   "source": [
    "if run_data_setup:\n",
    "    data_setup()"
   ]
  },
  {
   "cell_type": "code",
   "execution_count": 10,
   "metadata": {},
   "outputs": [],
   "source": [
    "# Import Clipped Polygons as spatially enabled dataframe \n",
    "\n",
    "sdf = pd.DataFrame.spatial.from_featureclass(rf\"{Output_GDB}\\Polygons_Clipped\")"
   ]
  },
  {
   "cell_type": "code",
   "execution_count": 11,
   "metadata": {},
   "outputs": [],
   "source": [
    "# Convert to geo series to get area and add to sdf\n",
    "\n",
    "gsa = arcgis.features.GeoSeriesAccessor(sdf['SHAPE'])\n",
    "sdf['Polygon_Area'] = gsa.area"
   ]
  },
  {
   "cell_type": "code",
   "execution_count": 12,
   "metadata": {},
   "outputs": [
    {
     "data": {
      "text/html": [
       "<div>\n",
       "<style scoped>\n",
       "    .dataframe tbody tr th:only-of-type {\n",
       "        vertical-align: middle;\n",
       "    }\n",
       "\n",
       "    .dataframe tbody tr th {\n",
       "        vertical-align: top;\n",
       "    }\n",
       "\n",
       "    .dataframe thead th {\n",
       "        text-align: right;\n",
       "    }\n",
       "</style>\n",
       "<table border=\"1\" class=\"dataframe\">\n",
       "  <thead>\n",
       "    <tr style=\"text-align: right;\">\n",
       "      <th></th>\n",
       "      <th>DESCRIPTION</th>\n",
       "      <th>Polygon_Area</th>\n",
       "    </tr>\n",
       "  </thead>\n",
       "  <tbody>\n",
       "    <tr>\n",
       "      <th>0</th>\n",
       "      <td>Colorado Plateau Pinyon-Juniper Woodland</td>\n",
       "      <td>54966.873350</td>\n",
       "    </tr>\n",
       "    <tr>\n",
       "      <th>1</th>\n",
       "      <td>Inter-Mountain Basins Big Sagebrush Shrubland</td>\n",
       "      <td>29328.449003</td>\n",
       "    </tr>\n",
       "    <tr>\n",
       "      <th>2</th>\n",
       "      <td>Inter-Mountain Basins Semi-Desert Shrub Steppe</td>\n",
       "      <td>1004.440265</td>\n",
       "    </tr>\n",
       "    <tr>\n",
       "      <th>3</th>\n",
       "      <td>Invasive Perennial Grassland</td>\n",
       "      <td>60.860957</td>\n",
       "    </tr>\n",
       "    <tr>\n",
       "      <th>4</th>\n",
       "      <td>Rocky Mountain Ponderosa Pine Woodland</td>\n",
       "      <td>37004.975329</td>\n",
       "    </tr>\n",
       "  </tbody>\n",
       "</table>\n",
       "</div>"
      ],
      "text/plain": [
       "                                      DESCRIPTION  Polygon_Area\n",
       "0        Colorado Plateau Pinyon-Juniper Woodland  54966.873350\n",
       "1   Inter-Mountain Basins Big Sagebrush Shrubland  29328.449003\n",
       "2  Inter-Mountain Basins Semi-Desert Shrub Steppe   1004.440265\n",
       "3                    Invasive Perennial Grassland     60.860957\n",
       "4          Rocky Mountain Ponderosa Pine Woodland  37004.975329"
      ]
     },
     "execution_count": 12,
     "metadata": {},
     "output_type": "execute_result"
    }
   ],
   "source": [
    "# Aggregate based on Description and Polygon area sum\n",
    "\n",
    "sdf = sdf.groupby(by='DESCRIPTION', as_index=False).agg({'Polygon_Area': 'sum'})\n",
    "sdf.head()"
   ]
  },
  {
   "cell_type": "code",
   "execution_count": 13,
   "metadata": {},
   "outputs": [
    {
     "data": {
      "text/html": [
       "<div>\n",
       "<style scoped>\n",
       "    .dataframe tbody tr th:only-of-type {\n",
       "        vertical-align: middle;\n",
       "    }\n",
       "\n",
       "    .dataframe tbody tr th {\n",
       "        vertical-align: top;\n",
       "    }\n",
       "\n",
       "    .dataframe thead th {\n",
       "        text-align: right;\n",
       "    }\n",
       "</style>\n",
       "<table border=\"1\" class=\"dataframe\">\n",
       "  <thead>\n",
       "    <tr style=\"text-align: right;\">\n",
       "      <th></th>\n",
       "      <th>DESCRIPTION</th>\n",
       "      <th>Polygon_Area</th>\n",
       "      <th>MRS_Acres</th>\n",
       "    </tr>\n",
       "  </thead>\n",
       "  <tbody>\n",
       "    <tr>\n",
       "      <th>0</th>\n",
       "      <td>Colorado Plateau Pinyon-Juniper Woodland</td>\n",
       "      <td>54966.873350</td>\n",
       "      <td>13.582864</td>\n",
       "    </tr>\n",
       "    <tr>\n",
       "      <th>1</th>\n",
       "      <td>Inter-Mountain Basins Big Sagebrush Shrubland</td>\n",
       "      <td>29328.449003</td>\n",
       "      <td>7.247353</td>\n",
       "    </tr>\n",
       "    <tr>\n",
       "      <th>2</th>\n",
       "      <td>Inter-Mountain Basins Semi-Desert Shrub Steppe</td>\n",
       "      <td>1004.440265</td>\n",
       "      <td>0.248207</td>\n",
       "    </tr>\n",
       "    <tr>\n",
       "      <th>3</th>\n",
       "      <td>Invasive Perennial Grassland</td>\n",
       "      <td>60.860957</td>\n",
       "      <td>0.015039</td>\n",
       "    </tr>\n",
       "    <tr>\n",
       "      <th>4</th>\n",
       "      <td>Rocky Mountain Ponderosa Pine Woodland</td>\n",
       "      <td>37004.975329</td>\n",
       "      <td>9.144299</td>\n",
       "    </tr>\n",
       "  </tbody>\n",
       "</table>\n",
       "</div>"
      ],
      "text/plain": [
       "                                      DESCRIPTION  Polygon_Area  MRS_Acres\n",
       "0        Colorado Plateau Pinyon-Juniper Woodland  54966.873350  13.582864\n",
       "1   Inter-Mountain Basins Big Sagebrush Shrubland  29328.449003   7.247353\n",
       "2  Inter-Mountain Basins Semi-Desert Shrub Steppe   1004.440265   0.248207\n",
       "3                    Invasive Perennial Grassland     60.860957   0.015039\n",
       "4          Rocky Mountain Ponderosa Pine Woodland  37004.975329   9.144299"
      ]
     },
     "execution_count": 13,
     "metadata": {},
     "output_type": "execute_result"
    }
   ],
   "source": [
    "# Convert to Acres and add to df\n",
    "\n",
    "sdf['MRS_Acres'] = sdf['Polygon_Area'] *  0.00024711 \n",
    "sdf.head()"
   ]
  },
  {
   "cell_type": "code",
   "execution_count": 14,
   "metadata": {},
   "outputs": [
    {
     "data": {
      "text/html": [
       "<div>\n",
       "<style scoped>\n",
       "    .dataframe tbody tr th:only-of-type {\n",
       "        vertical-align: middle;\n",
       "    }\n",
       "\n",
       "    .dataframe tbody tr th {\n",
       "        vertical-align: top;\n",
       "    }\n",
       "\n",
       "    .dataframe thead th {\n",
       "        text-align: right;\n",
       "    }\n",
       "</style>\n",
       "<table border=\"1\" class=\"dataframe\">\n",
       "  <thead>\n",
       "    <tr style=\"text-align: right;\">\n",
       "      <th></th>\n",
       "      <th>DESCRIPTION</th>\n",
       "      <th>Polygon_Area</th>\n",
       "      <th>MRS_Acres</th>\n",
       "      <th>Percent_of_total</th>\n",
       "    </tr>\n",
       "  </thead>\n",
       "  <tbody>\n",
       "    <tr>\n",
       "      <th>0</th>\n",
       "      <td>Colorado Plateau Pinyon-Juniper Woodland</td>\n",
       "      <td>54966.873350</td>\n",
       "      <td>13.582864</td>\n",
       "      <td>44.920201</td>\n",
       "    </tr>\n",
       "    <tr>\n",
       "      <th>1</th>\n",
       "      <td>Inter-Mountain Basins Big Sagebrush Shrubland</td>\n",
       "      <td>29328.449003</td>\n",
       "      <td>7.247353</td>\n",
       "      <td>23.967887</td>\n",
       "    </tr>\n",
       "    <tr>\n",
       "      <th>2</th>\n",
       "      <td>Inter-Mountain Basins Semi-Desert Shrub Steppe</td>\n",
       "      <td>1004.440265</td>\n",
       "      <td>0.248207</td>\n",
       "      <td>0.820852</td>\n",
       "    </tr>\n",
       "    <tr>\n",
       "      <th>3</th>\n",
       "      <td>Invasive Perennial Grassland</td>\n",
       "      <td>60.860957</td>\n",
       "      <td>0.015039</td>\n",
       "      <td>0.049737</td>\n",
       "    </tr>\n",
       "    <tr>\n",
       "      <th>4</th>\n",
       "      <td>Rocky Mountain Ponderosa Pine Woodland</td>\n",
       "      <td>37004.975329</td>\n",
       "      <td>9.144299</td>\n",
       "      <td>30.241322</td>\n",
       "    </tr>\n",
       "  </tbody>\n",
       "</table>\n",
       "</div>"
      ],
      "text/plain": [
       "                                      DESCRIPTION  ...  Percent_of_total\n",
       "0        Colorado Plateau Pinyon-Juniper Woodland  ...         44.920201\n",
       "1   Inter-Mountain Basins Big Sagebrush Shrubland  ...         23.967887\n",
       "2  Inter-Mountain Basins Semi-Desert Shrub Steppe  ...          0.820852\n",
       "3                    Invasive Perennial Grassland  ...          0.049737\n",
       "4          Rocky Mountain Ponderosa Pine Woodland  ...         30.241322\n",
       "\n",
       "[5 rows x 4 columns]"
      ]
     },
     "metadata": {},
     "output_type": "display_data"
    }
   ],
   "source": [
    "# Add field as column of whole for percentage\n",
    "\n",
    "sdf['Percent_of_total'] = (sdf['MRS_Acres'] / sdf['MRS_Acres'].sum()) * 100\n",
    "display(sdf)"
   ]
  },
  {
   "cell_type": "code",
   "execution_count": 173,
   "metadata": {},
   "outputs": [
    {
     "data": {
      "text/html": [
       "<div>\n",
       "<style scoped>\n",
       "    .dataframe tbody tr th:only-of-type {\n",
       "        vertical-align: middle;\n",
       "    }\n",
       "\n",
       "    .dataframe tbody tr th {\n",
       "        vertical-align: top;\n",
       "    }\n",
       "\n",
       "    .dataframe thead th {\n",
       "        text-align: right;\n",
       "    }\n",
       "</style>\n",
       "<table border=\"1\" class=\"dataframe\">\n",
       "  <thead>\n",
       "    <tr style=\"text-align: right;\">\n",
       "      <th></th>\n",
       "      <th>DESCRIPTION</th>\n",
       "      <th>Polygon_Area</th>\n",
       "      <th>MRS_Acres</th>\n",
       "      <th>Percent_of_total</th>\n",
       "    </tr>\n",
       "  </thead>\n",
       "  <tbody>\n",
       "    <tr>\n",
       "      <th>0</th>\n",
       "      <td>Inter-Mountain Basins Big Sagebrush Shrubland</td>\n",
       "      <td>1.502241e+04</td>\n",
       "      <td>3.712188</td>\n",
       "      <td>0.600631</td>\n",
       "    </tr>\n",
       "    <tr>\n",
       "      <th>1</th>\n",
       "      <td>Inter-Mountain Basins Montane Sagebrush Steppe</td>\n",
       "      <td>7.584645e+05</td>\n",
       "      <td>187.424160</td>\n",
       "      <td>30.325176</td>\n",
       "    </tr>\n",
       "    <tr>\n",
       "      <th>2</th>\n",
       "      <td>Inter-Mountain Basins Subalpine Limber-Bristle...</td>\n",
       "      <td>9.760317e+04</td>\n",
       "      <td>24.118720</td>\n",
       "      <td>3.902402</td>\n",
       "    </tr>\n",
       "    <tr>\n",
       "      <th>3</th>\n",
       "      <td>Mediterranean California Alpine Bedrock and Scree</td>\n",
       "      <td>5.281196e+04</td>\n",
       "      <td>13.050363</td>\n",
       "      <td>2.111545</td>\n",
       "    </tr>\n",
       "    <tr>\n",
       "      <th>4</th>\n",
       "      <td>Rocky Mountain Subalpine Dry-Mesic Spruce-Fir ...</td>\n",
       "      <td>2.603034e+05</td>\n",
       "      <td>64.323562</td>\n",
       "      <td>10.407534</td>\n",
       "    </tr>\n",
       "    <tr>\n",
       "      <th>5</th>\n",
       "      <td>Rocky Mountain Subalpine Mesic Spruce-Fir Fore...</td>\n",
       "      <td>6.093099e+04</td>\n",
       "      <td>15.056658</td>\n",
       "      <td>2.436163</td>\n",
       "    </tr>\n",
       "    <tr>\n",
       "      <th>6</th>\n",
       "      <td>Sierra Nevada Cliff and Canyon</td>\n",
       "      <td>5.416110e+03</td>\n",
       "      <td>1.338375</td>\n",
       "      <td>0.216549</td>\n",
       "    </tr>\n",
       "    <tr>\n",
       "      <th>Grand_Total</th>\n",
       "      <td>NaN</td>\n",
       "      <td>2.501105e+06</td>\n",
       "      <td>618.048054</td>\n",
       "      <td>100.000000</td>\n",
       "    </tr>\n",
       "  </tbody>\n",
       "</table>\n",
       "</div>"
      ],
      "text/plain": [
       "                                                   DESCRIPTION  ...  Percent_of_total\n",
       "0                Inter-Mountain Basins Big Sagebrush Shrubland  ...          0.600631\n",
       "1               Inter-Mountain Basins Montane Sagebrush Steppe  ...         30.325176\n",
       "2            Inter-Mountain Basins Subalpine Limber-Bristle...  ...          3.902402\n",
       "3            Mediterranean California Alpine Bedrock and Scree  ...          2.111545\n",
       "4            Rocky Mountain Subalpine Dry-Mesic Spruce-Fir ...  ...         10.407534\n",
       "5            Rocky Mountain Subalpine Mesic Spruce-Fir Fore...  ...          2.436163\n",
       "6                               Sierra Nevada Cliff and Canyon  ...          0.216549\n",
       "Grand_Total                                                NaN  ...        100.000000\n",
       "\n",
       "[8 rows x 4 columns]"
      ]
     },
     "metadata": {},
     "output_type": "display_data"
    }
   ],
   "source": [
    "# Append total to the bottom of df\n",
    "\n",
    "sdf.loc['Grand_Total'] = sdf[['MRS_Acres', 'Polygon_Area','Percent_of_total']].sum()\n",
    "display(sdf)"
   ]
  },
  {
   "cell_type": "code",
   "execution_count": 15,
   "metadata": {},
   "outputs": [],
   "source": [
    "sdf.to_excel(rf\"{output_folder}\\Total_Acres.xlsx\")"
   ]
  }
 ],
 "metadata": {
  "kernelspec": {
   "display_name": "ArcGISPro",
   "language": "Python",
   "name": "python3"
  },
  "language_info": {
   "file_extension": ".py",
   "name": "python",
   "version": "3"
  }
 },
 "nbformat": 4,
 "nbformat_minor": 2
}
